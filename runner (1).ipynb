{
 "cells": [
  {
   "cell_type": "code",
   "execution_count": 2,
   "id": "operating-central",
   "metadata": {},
   "outputs": [
    {
     "name": "stdout",
     "output_type": "stream",
     "text": [
      "Collecting seaborn\n",
      "  Downloading seaborn-0.11.1-py3-none-any.whl (285 kB)\n",
      "Requirement already satisfied: pandas>=0.23 in c:\\users\\moin\\appdata\\local\\programs\\python\\python38-32\\lib\\site-packages (from seaborn) (1.2.1)\n",
      "Requirement already satisfied: numpy>=1.15 in c:\\users\\moin\\appdata\\local\\programs\\python\\python38-32\\lib\\site-packages (from seaborn) (1.20.0)\n",
      "Requirement already satisfied: matplotlib>=2.2 in c:\\users\\moin\\appdata\\local\\programs\\python\\python38-32\\lib\\site-packages (from seaborn) (3.3.4)\n",
      "Requirement already satisfied: scipy>=1.0 in c:\\users\\moin\\appdata\\local\\programs\\python\\python38-32\\lib\\site-packages (from seaborn) (1.6.1)\n",
      "Requirement already satisfied: kiwisolver>=1.0.1 in c:\\users\\moin\\appdata\\local\\programs\\python\\python38-32\\lib\\site-packages (from matplotlib>=2.2->seaborn) (1.3.1)\n",
      "Requirement already satisfied: pillow>=6.2.0 in c:\\users\\moin\\appdata\\local\\programs\\python\\python38-32\\lib\\site-packages (from matplotlib>=2.2->seaborn) (7.1.2)\n",
      "Requirement already satisfied: cycler>=0.10 in c:\\users\\moin\\appdata\\local\\programs\\python\\python38-32\\lib\\site-packages (from matplotlib>=2.2->seaborn) (0.10.0)\n",
      "Requirement already satisfied: pyparsing!=2.0.4,!=2.1.2,!=2.1.6,>=2.0.3 in c:\\users\\moin\\appdata\\local\\programs\\python\\python38-32\\lib\\site-packages (from matplotlib>=2.2->seaborn) (2.4.7)\n",
      "Requirement already satisfied: python-dateutil>=2.1 in c:\\users\\moin\\appdata\\local\\programs\\python\\python38-32\\lib\\site-packages (from matplotlib>=2.2->seaborn) (2.8.1)\n",
      "Requirement already satisfied: six in c:\\users\\moin\\appdata\\local\\programs\\python\\python38-32\\lib\\site-packages (from cycler>=0.10->matplotlib>=2.2->seaborn) (1.15.0)\n",
      "Requirement already satisfied: pytz>=2017.3 in c:\\users\\moin\\appdata\\local\\programs\\python\\python38-32\\lib\\site-packages (from pandas>=0.23->seaborn) (2020.1)\n",
      "Installing collected packages: seaborn\n",
      "Successfully installed seaborn-0.11.1\n",
      "Note: you may need to restart the kernel to use updated packages.\n"
     ]
    }
   ],
   "source": [
    "pip install seaborn"
   ]
  },
  {
   "cell_type": "code",
   "execution_count": 63,
   "id": "studied-actress",
   "metadata": {},
   "outputs": [],
   "source": []
  },
  {
   "cell_type": "code",
   "execution_count": 68,
   "id": "miniature-exception",
   "metadata": {},
   "outputs": [
    {
     "data": {
      "text/html": [
       "<div>\n",
       "<style scoped>\n",
       "    .dataframe tbody tr th:only-of-type {\n",
       "        vertical-align: middle;\n",
       "    }\n",
       "\n",
       "    .dataframe tbody tr th {\n",
       "        vertical-align: top;\n",
       "    }\n",
       "\n",
       "    .dataframe thead th {\n",
       "        text-align: right;\n",
       "    }\n",
       "</style>\n",
       "<table border=\"1\" class=\"dataframe\">\n",
       "  <thead>\n",
       "    <tr style=\"text-align: right;\">\n",
       "      <th></th>\n",
       "      <th>Unnamed: 0</th>\n",
       "      <th>Card Number</th>\n",
       "      <th>Date</th>\n",
       "      <th>Amount</th>\n",
       "      <th>CBK</th>\n",
       "    </tr>\n",
       "  </thead>\n",
       "  <tbody>\n",
       "    <tr>\n",
       "      <th>0</th>\n",
       "      <td>0</td>\n",
       "      <td>536518******2108</td>\n",
       "      <td>2015-05-01 00:01:54</td>\n",
       "      <td>36.54</td>\n",
       "      <td>No</td>\n",
       "    </tr>\n",
       "    <tr>\n",
       "      <th>1</th>\n",
       "      <td>1</td>\n",
       "      <td>536518******2108</td>\n",
       "      <td>2015-05-01 00:03:46</td>\n",
       "      <td>36.54</td>\n",
       "      <td>No</td>\n",
       "    </tr>\n",
       "    <tr>\n",
       "      <th>2</th>\n",
       "      <td>2</td>\n",
       "      <td>453211******1239</td>\n",
       "      <td>2015-05-01 00:08:50</td>\n",
       "      <td>69.00</td>\n",
       "      <td>No</td>\n",
       "    </tr>\n",
       "    <tr>\n",
       "      <th>3</th>\n",
       "      <td>3</td>\n",
       "      <td>548827******1705</td>\n",
       "      <td>2015-05-01 00:27:00</td>\n",
       "      <td>193.43</td>\n",
       "      <td>No</td>\n",
       "    </tr>\n",
       "    <tr>\n",
       "      <th>4</th>\n",
       "      <td>4</td>\n",
       "      <td>531681******9778</td>\n",
       "      <td>2015-05-01 01:32:46</td>\n",
       "      <td>132.00</td>\n",
       "      <td>No</td>\n",
       "    </tr>\n",
       "    <tr>\n",
       "      <th>...</th>\n",
       "      <td>...</td>\n",
       "      <td>...</td>\n",
       "      <td>...</td>\n",
       "      <td>...</td>\n",
       "      <td>...</td>\n",
       "    </tr>\n",
       "    <tr>\n",
       "      <th>11122</th>\n",
       "      <td>11123</td>\n",
       "      <td>514868******7409</td>\n",
       "      <td>2015-05-30 23:07:01</td>\n",
       "      <td>53.00</td>\n",
       "      <td>No</td>\n",
       "    </tr>\n",
       "    <tr>\n",
       "      <th>11123</th>\n",
       "      <td>11124</td>\n",
       "      <td>439354******5281</td>\n",
       "      <td>2015-05-30 23:08:47</td>\n",
       "      <td>15.00</td>\n",
       "      <td>No</td>\n",
       "    </tr>\n",
       "    <tr>\n",
       "      <th>11124</th>\n",
       "      <td>11125</td>\n",
       "      <td>549167******1648</td>\n",
       "      <td>2015-05-30 23:15:24</td>\n",
       "      <td>20.00</td>\n",
       "      <td>No</td>\n",
       "    </tr>\n",
       "    <tr>\n",
       "      <th>11125</th>\n",
       "      <td>11126</td>\n",
       "      <td>518759******8384</td>\n",
       "      <td>2015-05-30 23:17:41</td>\n",
       "      <td>70.00</td>\n",
       "      <td>No</td>\n",
       "    </tr>\n",
       "    <tr>\n",
       "      <th>11126</th>\n",
       "      <td>11127</td>\n",
       "      <td>518759******0329</td>\n",
       "      <td>2015-05-30 23:51:31</td>\n",
       "      <td>20.00</td>\n",
       "      <td>No</td>\n",
       "    </tr>\n",
       "  </tbody>\n",
       "</table>\n",
       "<p>11127 rows × 5 columns</p>\n",
       "</div>"
      ],
      "text/plain": [
       "       Unnamed: 0       Card Number                 Date  Amount CBK\n",
       "0               0  536518******2108  2015-05-01 00:01:54   36.54  No\n",
       "1               1  536518******2108  2015-05-01 00:03:46   36.54  No\n",
       "2               2  453211******1239  2015-05-01 00:08:50   69.00  No\n",
       "3               3  548827******1705  2015-05-01 00:27:00  193.43  No\n",
       "4               4  531681******9778  2015-05-01 01:32:46  132.00  No\n",
       "...           ...               ...                  ...     ...  ..\n",
       "11122       11123  514868******7409  2015-05-30 23:07:01   53.00  No\n",
       "11123       11124  439354******5281  2015-05-30 23:08:47   15.00  No\n",
       "11124       11125  549167******1648  2015-05-30 23:15:24   20.00  No\n",
       "11125       11126  518759******8384  2015-05-30 23:17:41   70.00  No\n",
       "11126       11127  518759******0329  2015-05-30 23:51:31   20.00  No\n",
       "\n",
       "[11127 rows x 5 columns]"
      ]
     },
     "execution_count": 68,
     "metadata": {},
     "output_type": "execute_result"
    }
   ],
   "source": [
    "df = pd.read_csv(\"df.csv\")\n",
    "df"
   ]
  },
  {
   "cell_type": "code",
   "execution_count": 69,
   "id": "shared-foster",
   "metadata": {},
   "outputs": [
    {
     "data": {
      "text/html": [
       "<div>\n",
       "<style scoped>\n",
       "    .dataframe tbody tr th:only-of-type {\n",
       "        vertical-align: middle;\n",
       "    }\n",
       "\n",
       "    .dataframe tbody tr th {\n",
       "        vertical-align: top;\n",
       "    }\n",
       "\n",
       "    .dataframe thead th {\n",
       "        text-align: right;\n",
       "    }\n",
       "</style>\n",
       "<table border=\"1\" class=\"dataframe\">\n",
       "  <thead>\n",
       "    <tr style=\"text-align: right;\">\n",
       "      <th></th>\n",
       "      <th>Unnamed: 0</th>\n",
       "      <th>Card Number</th>\n",
       "      <th>Date</th>\n",
       "      <th>Amount</th>\n",
       "      <th>CBK</th>\n",
       "    </tr>\n",
       "  </thead>\n",
       "  <tbody>\n",
       "    <tr>\n",
       "      <th>0</th>\n",
       "      <td>0</td>\n",
       "      <td>536518******2108</td>\n",
       "      <td>2015-05-01 00:01:54</td>\n",
       "      <td>36.54</td>\n",
       "      <td>No</td>\n",
       "    </tr>\n",
       "    <tr>\n",
       "      <th>1</th>\n",
       "      <td>1</td>\n",
       "      <td>536518******2108</td>\n",
       "      <td>2015-05-01 00:03:46</td>\n",
       "      <td>36.54</td>\n",
       "      <td>No</td>\n",
       "    </tr>\n",
       "    <tr>\n",
       "      <th>2</th>\n",
       "      <td>2</td>\n",
       "      <td>453211******1239</td>\n",
       "      <td>2015-05-01 00:08:50</td>\n",
       "      <td>69.00</td>\n",
       "      <td>No</td>\n",
       "    </tr>\n",
       "    <tr>\n",
       "      <th>3</th>\n",
       "      <td>3</td>\n",
       "      <td>548827******1705</td>\n",
       "      <td>2015-05-01 00:27:00</td>\n",
       "      <td>193.43</td>\n",
       "      <td>No</td>\n",
       "    </tr>\n",
       "    <tr>\n",
       "      <th>4</th>\n",
       "      <td>4</td>\n",
       "      <td>531681******9778</td>\n",
       "      <td>2015-05-01 01:32:46</td>\n",
       "      <td>132.00</td>\n",
       "      <td>No</td>\n",
       "    </tr>\n",
       "  </tbody>\n",
       "</table>\n",
       "</div>"
      ],
      "text/plain": [
       "   Unnamed: 0       Card Number                 Date  Amount CBK\n",
       "0           0  536518******2108  2015-05-01 00:01:54   36.54  No\n",
       "1           1  536518******2108  2015-05-01 00:03:46   36.54  No\n",
       "2           2  453211******1239  2015-05-01 00:08:50   69.00  No\n",
       "3           3  548827******1705  2015-05-01 00:27:00  193.43  No\n",
       "4           4  531681******9778  2015-05-01 01:32:46  132.00  No"
      ]
     },
     "execution_count": 69,
     "metadata": {},
     "output_type": "execute_result"
    }
   ],
   "source": [
    "df.head()"
   ]
  },
  {
   "cell_type": "code",
   "execution_count": 70,
   "id": "dangerous-carolina",
   "metadata": {},
   "outputs": [],
   "source": [
    "def normalize(df):\n",
    "    return (df - df.mean()) / df.std()"
   ]
  },
  {
   "cell_type": "code",
   "execution_count": 91,
   "id": "developmental-zimbabwe",
   "metadata": {},
   "outputs": [
    {
     "data": {
      "text/html": [
       "<div>\n",
       "<style scoped>\n",
       "    .dataframe tbody tr th:only-of-type {\n",
       "        vertical-align: middle;\n",
       "    }\n",
       "\n",
       "    .dataframe tbody tr th {\n",
       "        vertical-align: top;\n",
       "    }\n",
       "\n",
       "    .dataframe thead th {\n",
       "        text-align: right;\n",
       "    }\n",
       "</style>\n",
       "<table border=\"1\" class=\"dataframe\">\n",
       "  <thead>\n",
       "    <tr style=\"text-align: right;\">\n",
       "      <th></th>\n",
       "      <th>Card Number</th>\n",
       "      <th>Date</th>\n",
       "      <th>Amount</th>\n",
       "      <th>CBK</th>\n",
       "    </tr>\n",
       "  </thead>\n",
       "  <tbody>\n",
       "    <tr>\n",
       "      <th>10874</th>\n",
       "      <td>-0.892245</td>\n",
       "      <td>1.480490</td>\n",
       "      <td>0.427371</td>\n",
       "      <td>0</td>\n",
       "    </tr>\n",
       "    <tr>\n",
       "      <th>912</th>\n",
       "      <td>0.798928</td>\n",
       "      <td>-1.605286</td>\n",
       "      <td>-0.138308</td>\n",
       "      <td>0</td>\n",
       "    </tr>\n",
       "    <tr>\n",
       "      <th>175</th>\n",
       "      <td>-0.182683</td>\n",
       "      <td>-1.605286</td>\n",
       "      <td>0.394773</td>\n",
       "      <td>1</td>\n",
       "    </tr>\n",
       "    <tr>\n",
       "      <th>2437</th>\n",
       "      <td>-0.470384</td>\n",
       "      <td>-0.062398</td>\n",
       "      <td>0.717281</td>\n",
       "      <td>0</td>\n",
       "    </tr>\n",
       "    <tr>\n",
       "      <th>9709</th>\n",
       "      <td>1.615073</td>\n",
       "      <td>1.480490</td>\n",
       "      <td>-0.520141</td>\n",
       "      <td>0</td>\n",
       "    </tr>\n",
       "    <tr>\n",
       "      <th>...</th>\n",
       "      <td>...</td>\n",
       "      <td>...</td>\n",
       "      <td>...</td>\n",
       "      <td>...</td>\n",
       "    </tr>\n",
       "    <tr>\n",
       "      <th>10662</th>\n",
       "      <td>-0.121938</td>\n",
       "      <td>1.480490</td>\n",
       "      <td>-0.880761</td>\n",
       "      <td>0</td>\n",
       "    </tr>\n",
       "    <tr>\n",
       "      <th>1048</th>\n",
       "      <td>-0.015727</td>\n",
       "      <td>-1.605286</td>\n",
       "      <td>0.172815</td>\n",
       "      <td>0</td>\n",
       "    </tr>\n",
       "    <tr>\n",
       "      <th>10271</th>\n",
       "      <td>0.731475</td>\n",
       "      <td>1.480490</td>\n",
       "      <td>0.017254</td>\n",
       "      <td>0</td>\n",
       "    </tr>\n",
       "    <tr>\n",
       "      <th>4060</th>\n",
       "      <td>0.368122</td>\n",
       "      <td>-0.062398</td>\n",
       "      <td>-0.332760</td>\n",
       "      <td>0</td>\n",
       "    </tr>\n",
       "    <tr>\n",
       "      <th>1318</th>\n",
       "      <td>0.137067</td>\n",
       "      <td>-1.605286</td>\n",
       "      <td>-0.799445</td>\n",
       "      <td>0</td>\n",
       "    </tr>\n",
       "  </tbody>\n",
       "</table>\n",
       "<p>11127 rows × 4 columns</p>\n",
       "</div>"
      ],
      "text/plain": [
       "       Card Number      Date    Amount  CBK\n",
       "10874    -0.892245  1.480490  0.427371    0\n",
       "912       0.798928 -1.605286 -0.138308    0\n",
       "175      -0.182683 -1.605286  0.394773    1\n",
       "2437     -0.470384 -0.062398  0.717281    0\n",
       "9709      1.615073  1.480490 -0.520141    0\n",
       "...            ...       ...       ...  ...\n",
       "10662    -0.121938  1.480490 -0.880761    0\n",
       "1048     -0.015727 -1.605286  0.172815    0\n",
       "10271     0.731475  1.480490  0.017254    0\n",
       "4060      0.368122 -0.062398 -0.332760    0\n",
       "1318      0.137067 -1.605286 -0.799445    0\n",
       "\n",
       "[11127 rows x 4 columns]"
      ]
     },
     "execution_count": 91,
     "metadata": {},
     "output_type": "execute_result"
    }
   ],
   "source": [
    "df = df[['Card Number', 'Date', 'Amount', 'CBK']]\n",
    "df = df.sample(frac = 1) \n",
    "df\n",
    "\n",
    "card_numbers_to_idx = { v:k for k,v in enumerate(np.unique(df['Card Number'].values))}\n",
    "df['Card Number'].replace(card_numbers_to_idx, inplace=True)\n",
    "df['Card Number'] = normalize(df['Card Number'])\n",
    "\n",
    "df['Date'] = df['Date'].values.astype(\"datetime64[s]\")\n",
    "df['Date'] = normalize(df['Date'])\n",
    "\n",
    "\n",
    "df['Amount'] = normalize(df['Amount'])\n",
    "\n",
    "df.replace({'No': 0, 'Yes': 1}, inplace=True)\n",
    "df"
   ]
  },
  {
   "cell_type": "code",
   "execution_count": 92,
   "id": "foreign-publicity",
   "metadata": {},
   "outputs": [
    {
     "data": {
      "text/html": [
       "<div>\n",
       "<style scoped>\n",
       "    .dataframe tbody tr th:only-of-type {\n",
       "        vertical-align: middle;\n",
       "    }\n",
       "\n",
       "    .dataframe tbody tr th {\n",
       "        vertical-align: top;\n",
       "    }\n",
       "\n",
       "    .dataframe thead th {\n",
       "        text-align: right;\n",
       "    }\n",
       "</style>\n",
       "<table border=\"1\" class=\"dataframe\">\n",
       "  <thead>\n",
       "    <tr style=\"text-align: right;\">\n",
       "      <th></th>\n",
       "      <th>Card Number</th>\n",
       "      <th>Date</th>\n",
       "      <th>Amount</th>\n",
       "      <th>CBK</th>\n",
       "    </tr>\n",
       "  </thead>\n",
       "  <tbody>\n",
       "    <tr>\n",
       "      <th>count</th>\n",
       "      <td>1.112700e+04</td>\n",
       "      <td>1.112700e+04</td>\n",
       "      <td>1.112700e+04</td>\n",
       "      <td>11127.000000</td>\n",
       "    </tr>\n",
       "    <tr>\n",
       "      <th>mean</th>\n",
       "      <td>1.174979e-16</td>\n",
       "      <td>1.080313e-09</td>\n",
       "      <td>-1.021720e-17</td>\n",
       "      <td>0.051406</td>\n",
       "    </tr>\n",
       "    <tr>\n",
       "      <th>std</th>\n",
       "      <td>1.000000e+00</td>\n",
       "      <td>1.000000e+00</td>\n",
       "      <td>1.000000e+00</td>\n",
       "      <td>0.220835</td>\n",
       "    </tr>\n",
       "    <tr>\n",
       "      <th>min</th>\n",
       "      <td>-1.725161e+00</td>\n",
       "      <td>-1.605286e+00</td>\n",
       "      <td>-9.090447e-01</td>\n",
       "      <td>0.000000</td>\n",
       "    </tr>\n",
       "    <tr>\n",
       "      <th>25%</th>\n",
       "      <td>-8.641086e-01</td>\n",
       "      <td>-6.239774e-02</td>\n",
       "      <td>-5.272118e-01</td>\n",
       "      <td>0.000000</td>\n",
       "    </tr>\n",
       "    <tr>\n",
       "      <th>50%</th>\n",
       "      <td>-4.477255e-04</td>\n",
       "      <td>-6.239774e-02</td>\n",
       "      <td>-2.160886e-01</td>\n",
       "      <td>0.000000</td>\n",
       "    </tr>\n",
       "    <tr>\n",
       "      <th>75%</th>\n",
       "      <td>8.647039e-01</td>\n",
       "      <td>-6.239774e-02</td>\n",
       "      <td>1.728153e-01</td>\n",
       "      <td>0.000000</td>\n",
       "    </tr>\n",
       "    <tr>\n",
       "      <th>max</th>\n",
       "      <td>1.725383e+00</td>\n",
       "      <td>1.480490e+00</td>\n",
       "      <td>1.973115e+01</td>\n",
       "      <td>1.000000</td>\n",
       "    </tr>\n",
       "  </tbody>\n",
       "</table>\n",
       "</div>"
      ],
      "text/plain": [
       "        Card Number          Date        Amount           CBK\n",
       "count  1.112700e+04  1.112700e+04  1.112700e+04  11127.000000\n",
       "mean   1.174979e-16  1.080313e-09 -1.021720e-17      0.051406\n",
       "std    1.000000e+00  1.000000e+00  1.000000e+00      0.220835\n",
       "min   -1.725161e+00 -1.605286e+00 -9.090447e-01      0.000000\n",
       "25%   -8.641086e-01 -6.239774e-02 -5.272118e-01      0.000000\n",
       "50%   -4.477255e-04 -6.239774e-02 -2.160886e-01      0.000000\n",
       "75%    8.647039e-01 -6.239774e-02  1.728153e-01      0.000000\n",
       "max    1.725383e+00  1.480490e+00  1.973115e+01      1.000000"
      ]
     },
     "execution_count": 92,
     "metadata": {},
     "output_type": "execute_result"
    }
   ],
   "source": [
    "df.describe()"
   ]
  },
  {
   "cell_type": "code",
   "execution_count": 94,
   "id": "coupled-nebraska",
   "metadata": {},
   "outputs": [
    {
     "name": "stdout",
     "output_type": "stream",
     "text": [
      "0.0541923259118901\n",
      "572\n",
      "10555\n"
     ]
    }
   ],
   "source": [
    "fraud = df[df['CBK'] == 1] \n",
    "valid = df[df['CBK'] == 0] \n",
    "ratio = len(fraud)/float(len(valid)) \n",
    "print(ratio)\n",
    "print(len(fraud))\n",
    "print(len(valid))"
   ]
  },
  {
   "cell_type": "code",
   "execution_count": 95,
   "id": "impossible-modem",
   "metadata": {},
   "outputs": [
    {
     "name": "stdout",
     "output_type": "stream",
     "text": [
      "count    572.000000\n",
      "mean       0.379998\n",
      "std        1.169056\n",
      "min       -0.817193\n",
      "25%       -0.428218\n",
      "50%        0.017254\n",
      "75%        0.563487\n",
      "max        6.239717\n",
      "Name: Amount, dtype: float64\n",
      "-------------------\n",
      "count    10555.000000\n",
      "mean        -0.020593\n",
      "std          0.985903\n",
      "min         -0.909045\n",
      "25%         -0.527212\n",
      "50%         -0.216089\n",
      "75%          0.172815\n",
      "max         19.731148\n",
      "Name: Amount, dtype: float64\n"
     ]
    }
   ],
   "source": [
    "print(fraud['Amount'].describe())\n",
    "print('-------------------')\n",
    "print(valid['Amount'].describe())"
   ]
  },
  {
   "cell_type": "code",
   "execution_count": 96,
   "id": "laughing-truck",
   "metadata": {},
   "outputs": [
    {
     "data": {
      "image/png": "[encoded data removed]",
      "text/plain": [
       "<Figure size 864x648 with 2 Axes>"
      ]
     },
     "metadata": {
      "needs_background": "light"
     },
     "output_type": "display_data"
    }
   ],
   "source": [
    "correlation = df.corr() \n",
    "fig = plt.figure(figsize = (12, 9)) \n",
    "sns.heatmap(correlation, vmax = 1, square = True, cmap=\"YlGnBu\") \n",
    "plt.show()"
   ]
  },
  {
   "cell_type": "code",
   "execution_count": 97,
   "id": "intended-radius",
   "metadata": {},
   "outputs": [
    {
     "data": {
      "image/png": "[encoded data removed]",
      "text/plain": [
       "<Figure size 864x648 with 2 Axes>"
      ]
     },
     "metadata": {
      "needs_background": "light"
     },
     "output_type": "display_data"
    }
   ],
   "source": [
    "correlation = fraud.corr() \n",
    "fig = plt.figure(figsize = (12, 9)) \n",
    "sns.heatmap(correlation, vmax = 1, square = True, cmap=\"YlGnBu\") \n",
    "plt.show()"
   ]
  },
  {
   "cell_type": "code",
   "execution_count": 100,
   "id": "liberal-blackjack",
   "metadata": {},
   "outputs": [],
   "source": [
    "from sklearn.model_selection import train_test_split\n",
    "X=df[['Card Number', 'Date', 'Amount']]  # Features\n",
    "y=df['CBK']\n",
    "\n",
    "X_train, X_test, y_train, y_test = train_test_split(X, y, test_size=0.25)"
   ]
  },
  {
   "cell_type": "code",
   "execution_count": 102,
   "id": "nominated-video",
   "metadata": {},
   "outputs": [
    {
     "name": "stdout",
     "output_type": "stream",
     "text": [
      "Accuracy: 0.9784327821711\n"
     ]
    }
   ],
   "source": [
    "from sklearn.ensemble import RandomForestClassifier\n",
    "\n",
    "clf=RandomForestClassifier(n_estimators=100)\n",
    "clf.fit(X_train,y_train)\n",
    "y_pred=clf.predict(X_test)\n",
    "\n",
    "from sklearn import metrics\n",
    "print(\"Accuracy:\",metrics.accuracy_score(y_test, y_pred))"
   ]
  }
 ],
 "metadata": {
  "kernelspec": {
   "display_name": "Python 3",
   "language": "python",
   "name": "python3"
  },
  "language_info": {
   "codemirror_mode": {
    "name": "ipython",
    "version": 3
   },
   "file_extension": ".py",
   "mimetype": "text/x-python",
   "name": "python",
   "nbconvert_exporter": "python",
   "pygments_lexer": "ipython3",
   "version": "3.8.3"
  },
  "toc": {
   "base_numbering": 1,
   "nav_menu": {},
   "number_sections": true,
   "sideBar": true,
   "skip_h1_title": false,
   "title_cell": "Table of Contents",
   "title_sidebar": "Contents",
   "toc_cell": false,
   "toc_position": {},
   "toc_section_display": true,
   "toc_window_display": false
  },
  "varInspector": {
   "cols": {
    "lenName": 16,
    "lenType": 16,
    "lenVar": 40
   },
   "kernels_config": {
    "python": {
     "delete_cmd_postfix": "",
     "delete_cmd_prefix": "del ",
     "library": "var_list.py",
     "varRefreshCmd": "print(var_dic_list())"
    },
    "r": {
     "delete_cmd_postfix": ") ",
     "delete_cmd_prefix": "rm(",
     "library": "var_list.r",
     "varRefreshCmd": "cat(var_dic_list()) "
    }
   },
   "types_to_exclude": [
    "module",
    "function",
    "builtin_function_or_method",
    "instance",
    "_Feature"
   ],
   "window_display": false
  }
 },
 "nbformat": 4,
 "nbformat_minor": 5
}
