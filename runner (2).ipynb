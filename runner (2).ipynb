{
 "cells": [
  {
   "cell_type": "code",
   "execution_count": 2,
   "id": "extreme-wisconsin",
   "metadata": {},
   "outputs": [
    {
     "name": "stdout",
     "output_type": "stream",
     "text": [
      "Collecting seaborn\n",
      "  Downloading seaborn-0.11.1-py3-none-any.whl (285 kB)\n",
      "Requirement already satisfied: pandas>=0.23 in c:\\users\\moin\\appdata\\local\\programs\\python\\python38-32\\lib\\site-packages (from seaborn) (1.2.1)\n",
      "Requirement already satisfied: numpy>=1.15 in c:\\users\\moin\\appdata\\local\\programs\\python\\python38-32\\lib\\site-packages (from seaborn) (1.20.0)\n",
      "Requirement already satisfied: matplotlib>=2.2 in c:\\users\\moin\\appdata\\local\\programs\\python\\python38-32\\lib\\site-packages (from seaborn) (3.3.4)\n",
      "Requirement already satisfied: scipy>=1.0 in c:\\users\\moin\\appdata\\local\\programs\\python\\python38-32\\lib\\site-packages (from seaborn) (1.6.1)\n",
      "Requirement already satisfied: kiwisolver>=1.0.1 in c:\\users\\moin\\appdata\\local\\programs\\python\\python38-32\\lib\\site-packages (from matplotlib>=2.2->seaborn) (1.3.1)\n",
      "Requirement already satisfied: pillow>=6.2.0 in c:\\users\\moin\\appdata\\local\\programs\\python\\python38-32\\lib\\site-packages (from matplotlib>=2.2->seaborn) (7.1.2)\n",
      "Requirement already satisfied: cycler>=0.10 in c:\\users\\moin\\appdata\\local\\programs\\python\\python38-32\\lib\\site-packages (from matplotlib>=2.2->seaborn) (0.10.0)\n",
      "Requirement already satisfied: pyparsing!=2.0.4,!=2.1.2,!=2.1.6,>=2.0.3 in c:\\users\\moin\\appdata\\local\\programs\\python\\python38-32\\lib\\site-packages (from matplotlib>=2.2->seaborn) (2.4.7)\n",
      "Requirement already satisfied: python-dateutil>=2.1 in c:\\users\\moin\\appdata\\local\\programs\\python\\python38-32\\lib\\site-packages (from matplotlib>=2.2->seaborn) (2.8.1)\n",
      "Requirement already satisfied: six in c:\\users\\moin\\appdata\\local\\programs\\python\\python38-32\\lib\\site-packages (from cycler>=0.10->matplotlib>=2.2->seaborn) (1.15.0)\n",
      "Requirement already satisfied: pytz>=2017.3 in c:\\users\\moin\\appdata\\local\\programs\\python\\python38-32\\lib\\site-packages (from pandas>=0.23->seaborn) (2020.1)\n",
      "Installing collected packages: seaborn\n",
      "Successfully installed seaborn-0.11.1\n",
      "Note: you may need to restart the kernel to use updated packages.\n"
     ]
    }
   ],
   "source": [
    "pip install seaborn"
   ]
  },
  {
   "cell_type": "code",
   "execution_count": 71,
   "id": "collectible-authority",
   "metadata": {},
   "outputs": [
    {
     "data": {
      "text/html": [
       "<div>\n",
       "<style scoped>\n",
       "    .dataframe tbody tr th:only-of-type {\n",
       "        vertical-align: middle;\n",
       "    }\n",
       "\n",
       "    .dataframe tbody tr th {\n",
       "        vertical-align: top;\n",
       "    }\n",
       "\n",
       "    .dataframe thead th {\n",
       "        text-align: right;\n",
       "    }\n",
       "</style>\n",
       "<table border=\"1\" class=\"dataframe\">\n",
       "  <thead>\n",
       "    <tr style=\"text-align: right;\">\n",
       "      <th></th>\n",
       "      <th>Unnamed: 0</th>\n",
       "      <th>Card Number</th>\n",
       "      <th>Date</th>\n",
       "      <th>Amount</th>\n",
       "      <th>CBK</th>\n",
       "    </tr>\n",
       "  </thead>\n",
       "  <tbody>\n",
       "    <tr>\n",
       "      <th>0</th>\n",
       "      <td>0</td>\n",
       "      <td>536518******2108</td>\n",
       "      <td>2015-05-01 00:01:54</td>\n",
       "      <td>36.54</td>\n",
       "      <td>No</td>\n",
       "    </tr>\n",
       "    <tr>\n",
       "      <th>1</th>\n",
       "      <td>1</td>\n",
       "      <td>536518******2108</td>\n",
       "      <td>2015-05-01 00:03:46</td>\n",
       "      <td>36.54</td>\n",
       "      <td>No</td>\n",
       "    </tr>\n",
       "    <tr>\n",
       "      <th>2</th>\n",
       "      <td>2</td>\n",
       "      <td>453211******1239</td>\n",
       "      <td>2015-05-01 00:08:50</td>\n",
       "      <td>69.00</td>\n",
       "      <td>No</td>\n",
       "    </tr>\n",
       "    <tr>\n",
       "      <th>3</th>\n",
       "      <td>3</td>\n",
       "      <td>548827******1705</td>\n",
       "      <td>2015-05-01 00:27:00</td>\n",
       "      <td>193.43</td>\n",
       "      <td>No</td>\n",
       "    </tr>\n",
       "    <tr>\n",
       "      <th>4</th>\n",
       "      <td>4</td>\n",
       "      <td>531681******9778</td>\n",
       "      <td>2015-05-01 01:32:46</td>\n",
       "      <td>132.00</td>\n",
       "      <td>No</td>\n",
       "    </tr>\n",
       "    <tr>\n",
       "      <th>...</th>\n",
       "      <td>...</td>\n",
       "      <td>...</td>\n",
       "      <td>...</td>\n",
       "      <td>...</td>\n",
       "      <td>...</td>\n",
       "    </tr>\n",
       "    <tr>\n",
       "      <th>11122</th>\n",
       "      <td>11123</td>\n",
       "      <td>514868******7409</td>\n",
       "      <td>2015-05-30 23:07:01</td>\n",
       "      <td>53.00</td>\n",
       "      <td>No</td>\n",
       "    </tr>\n",
       "    <tr>\n",
       "      <th>11123</th>\n",
       "      <td>11124</td>\n",
       "      <td>439354******5281</td>\n",
       "      <td>2015-05-30 23:08:47</td>\n",
       "      <td>15.00</td>\n",
       "      <td>No</td>\n",
       "    </tr>\n",
       "    <tr>\n",
       "      <th>11124</th>\n",
       "      <td>11125</td>\n",
       "      <td>549167******1648</td>\n",
       "      <td>2015-05-30 23:15:24</td>\n",
       "      <td>20.00</td>\n",
       "      <td>No</td>\n",
       "    </tr>\n",
       "    <tr>\n",
       "      <th>11125</th>\n",
       "      <td>11126</td>\n",
       "      <td>518759******8384</td>\n",
       "      <td>2015-05-30 23:17:41</td>\n",
       "      <td>70.00</td>\n",
       "      <td>No</td>\n",
       "    </tr>\n",
       "    <tr>\n",
       "      <th>11126</th>\n",
       "      <td>11127</td>\n",
       "      <td>518759******0329</td>\n",
       "      <td>2015-05-30 23:51:31</td>\n",
       "      <td>20.00</td>\n",
       "      <td>No</td>\n",
       "    </tr>\n",
       "  </tbody>\n",
       "</table>\n",
       "<p>11127 rows × 5 columns</p>\n",
       "</div>"
      ],
      "text/plain": [
       "       Unnamed: 0       Card Number                 Date  Amount CBK\n",
       "0               0  536518******2108  2015-05-01 00:01:54   36.54  No\n",
       "1               1  536518******2108  2015-05-01 00:03:46   36.54  No\n",
       "2               2  453211******1239  2015-05-01 00:08:50   69.00  No\n",
       "3               3  548827******1705  2015-05-01 00:27:00  193.43  No\n",
       "4               4  531681******9778  2015-05-01 01:32:46  132.00  No\n",
       "...           ...               ...                  ...     ...  ..\n",
       "11122       11123  514868******7409  2015-05-30 23:07:01   53.00  No\n",
       "11123       11124  439354******5281  2015-05-30 23:08:47   15.00  No\n",
       "11124       11125  549167******1648  2015-05-30 23:15:24   20.00  No\n",
       "11125       11126  518759******8384  2015-05-30 23:17:41   70.00  No\n",
       "11126       11127  518759******0329  2015-05-30 23:51:31   20.00  No\n",
       "\n",
       "[11127 rows x 5 columns]"
      ]
     },
     "execution_count": 71,
     "metadata": {},
     "output_type": "execute_result"
    }
   ],
   "source": [
    "import numpy as np\n",
    "import pandas as pd\n",
    "import matplotlib.pyplot as plt\n",
    "import seaborn as sns\n",
    "df = pd.read_csv(\"df.csv\")\n",
    "df"
   ]
  },
  {
   "cell_type": "code",
   "execution_count": 72,
   "id": "devoted-flour",
   "metadata": {},
   "outputs": [
    {
     "data": {
      "text/html": [
       "<div>\n",
       "<style scoped>\n",
       "    .dataframe tbody tr th:only-of-type {\n",
       "        vertical-align: middle;\n",
       "    }\n",
       "\n",
       "    .dataframe tbody tr th {\n",
       "        vertical-align: top;\n",
       "    }\n",
       "\n",
       "    .dataframe thead th {\n",
       "        text-align: right;\n",
       "    }\n",
       "</style>\n",
       "<table border=\"1\" class=\"dataframe\">\n",
       "  <thead>\n",
       "    <tr style=\"text-align: right;\">\n",
       "      <th></th>\n",
       "      <th>Unnamed: 0</th>\n",
       "      <th>Card Number</th>\n",
       "      <th>Date</th>\n",
       "      <th>Amount</th>\n",
       "      <th>CBK</th>\n",
       "    </tr>\n",
       "  </thead>\n",
       "  <tbody>\n",
       "    <tr>\n",
       "      <th>0</th>\n",
       "      <td>0</td>\n",
       "      <td>536518******2108</td>\n",
       "      <td>2015-05-01 00:01:54</td>\n",
       "      <td>36.54</td>\n",
       "      <td>No</td>\n",
       "    </tr>\n",
       "    <tr>\n",
       "      <th>1</th>\n",
       "      <td>1</td>\n",
       "      <td>536518******2108</td>\n",
       "      <td>2015-05-01 00:03:46</td>\n",
       "      <td>36.54</td>\n",
       "      <td>No</td>\n",
       "    </tr>\n",
       "    <tr>\n",
       "      <th>2</th>\n",
       "      <td>2</td>\n",
       "      <td>453211******1239</td>\n",
       "      <td>2015-05-01 00:08:50</td>\n",
       "      <td>69.00</td>\n",
       "      <td>No</td>\n",
       "    </tr>\n",
       "    <tr>\n",
       "      <th>3</th>\n",
       "      <td>3</td>\n",
       "      <td>548827******1705</td>\n",
       "      <td>2015-05-01 00:27:00</td>\n",
       "      <td>193.43</td>\n",
       "      <td>No</td>\n",
       "    </tr>\n",
       "    <tr>\n",
       "      <th>4</th>\n",
       "      <td>4</td>\n",
       "      <td>531681******9778</td>\n",
       "      <td>2015-05-01 01:32:46</td>\n",
       "      <td>132.00</td>\n",
       "      <td>No</td>\n",
       "    </tr>\n",
       "  </tbody>\n",
       "</table>\n",
       "</div>"
      ],
      "text/plain": [
       "   Unnamed: 0       Card Number                 Date  Amount CBK\n",
       "0           0  536518******2108  2015-05-01 00:01:54   36.54  No\n",
       "1           1  536518******2108  2015-05-01 00:03:46   36.54  No\n",
       "2           2  453211******1239  2015-05-01 00:08:50   69.00  No\n",
       "3           3  548827******1705  2015-05-01 00:27:00  193.43  No\n",
       "4           4  531681******9778  2015-05-01 01:32:46  132.00  No"
      ]
     },
     "execution_count": 72,
     "metadata": {},
     "output_type": "execute_result"
    }
   ],
   "source": [
    "df.head()"
   ]
  },
  {
   "cell_type": "code",
   "execution_count": 73,
   "id": "satisfied-salvation",
   "metadata": {},
   "outputs": [],
   "source": [
    "def normalize(df):\n",
    "    return (df - df.mean()) / df.std()"
   ]
  },
  {
   "cell_type": "code",
   "execution_count": 74,
   "id": "quantitative-superintendent",
   "metadata": {},
   "outputs": [
    {
     "data": {
      "text/html": [
       "<div>\n",
       "<style scoped>\n",
       "    .dataframe tbody tr th:only-of-type {\n",
       "        vertical-align: middle;\n",
       "    }\n",
       "\n",
       "    .dataframe tbody tr th {\n",
       "        vertical-align: top;\n",
       "    }\n",
       "\n",
       "    .dataframe thead th {\n",
       "        text-align: right;\n",
       "    }\n",
       "</style>\n",
       "<table border=\"1\" class=\"dataframe\">\n",
       "  <thead>\n",
       "    <tr style=\"text-align: right;\">\n",
       "      <th></th>\n",
       "      <th>Card Number</th>\n",
       "      <th>Date</th>\n",
       "      <th>Amount</th>\n",
       "      <th>CBK</th>\n",
       "    </tr>\n",
       "  </thead>\n",
       "  <tbody>\n",
       "    <tr>\n",
       "      <th>2062</th>\n",
       "      <td>0.196694</td>\n",
       "      <td>-1.047180</td>\n",
       "      <td>121.0</td>\n",
       "      <td>0</td>\n",
       "    </tr>\n",
       "    <tr>\n",
       "      <th>2494</th>\n",
       "      <td>0.909983</td>\n",
       "      <td>-0.946049</td>\n",
       "      <td>69.0</td>\n",
       "      <td>0</td>\n",
       "    </tr>\n",
       "    <tr>\n",
       "      <th>1588</th>\n",
       "      <td>-0.730134</td>\n",
       "      <td>-1.123143</td>\n",
       "      <td>99.0</td>\n",
       "      <td>0</td>\n",
       "    </tr>\n",
       "    <tr>\n",
       "      <th>5514</th>\n",
       "      <td>-0.794606</td>\n",
       "      <td>-0.167234</td>\n",
       "      <td>198.0</td>\n",
       "      <td>0</td>\n",
       "    </tr>\n",
       "    <tr>\n",
       "      <th>5707</th>\n",
       "      <td>-1.568640</td>\n",
       "      <td>-0.136241</td>\n",
       "      <td>470.0</td>\n",
       "      <td>0</td>\n",
       "    </tr>\n",
       "    <tr>\n",
       "      <th>...</th>\n",
       "      <td>...</td>\n",
       "      <td>...</td>\n",
       "      <td>...</td>\n",
       "      <td>...</td>\n",
       "    </tr>\n",
       "    <tr>\n",
       "      <th>4094</th>\n",
       "      <td>1.097063</td>\n",
       "      <td>-0.502605</td>\n",
       "      <td>77.0</td>\n",
       "      <td>0</td>\n",
       "    </tr>\n",
       "    <tr>\n",
       "      <th>4086</th>\n",
       "      <td>1.493583</td>\n",
       "      <td>-0.503192</td>\n",
       "      <td>352.0</td>\n",
       "      <td>0</td>\n",
       "    </tr>\n",
       "    <tr>\n",
       "      <th>1693</th>\n",
       "      <td>0.227999</td>\n",
       "      <td>-1.111000</td>\n",
       "      <td>121.0</td>\n",
       "      <td>0</td>\n",
       "    </tr>\n",
       "    <tr>\n",
       "      <th>2764</th>\n",
       "      <td>-0.308645</td>\n",
       "      <td>-0.837664</td>\n",
       "      <td>143.0</td>\n",
       "      <td>0</td>\n",
       "    </tr>\n",
       "    <tr>\n",
       "      <th>607</th>\n",
       "      <td>1.457807</td>\n",
       "      <td>-1.428007</td>\n",
       "      <td>143.0</td>\n",
       "      <td>0</td>\n",
       "    </tr>\n",
       "  </tbody>\n",
       "</table>\n",
       "<p>11127 rows × 4 columns</p>\n",
       "</div>"
      ],
      "text/plain": [
       "      Card Number      Date  Amount  CBK\n",
       "2062     0.196694 -1.047180   121.0    0\n",
       "2494     0.909983 -0.946049    69.0    0\n",
       "1588    -0.730134 -1.123143    99.0    0\n",
       "5514    -0.794606 -0.167234   198.0    0\n",
       "5707    -1.568640 -0.136241   470.0    0\n",
       "...           ...       ...     ...  ...\n",
       "4094     1.097063 -0.502605    77.0    0\n",
       "4086     1.493583 -0.503192   352.0    0\n",
       "1693     0.227999 -1.111000   121.0    0\n",
       "2764    -0.308645 -0.837664   143.0    0\n",
       "607      1.457807 -1.428007   143.0    0\n",
       "\n",
       "[11127 rows x 4 columns]"
      ]
     },
     "execution_count": 74,
     "metadata": {},
     "output_type": "execute_result"
    }
   ],
   "source": [
    "df = df[['Card Number', 'Date', 'Amount', 'CBK']]\n",
    "df = df.sample(frac = 1) \n",
    "df\n",
    "\n",
    "card_numbers_to_idx = { v:k for k,v in enumerate(np.unique(df['Card Number'].values))}\n",
    "df['Card Number'].replace(card_numbers_to_idx, inplace=True)\n",
    "df['Card Number'] = normalize(df['Card Number'])\n",
    "\n",
    "df['Date'] = df['Date'].values.astype(\"datetime64[s]\")\n",
    "df['Date'] = normalize(df['Date'])\n",
    "\n",
    "#df['Amount'] = normalize(df['Amount'])\n",
    "\n",
    "df.replace({'No': 0, 'Yes': 1}, inplace=True)\n",
    "df"
   ]
  },
  {
   "cell_type": "code",
   "execution_count": 75,
   "id": "restricted-faculty",
   "metadata": {},
   "outputs": [
    {
     "data": {
      "text/html": [
       "<div>\n",
       "<style scoped>\n",
       "    .dataframe tbody tr th:only-of-type {\n",
       "        vertical-align: middle;\n",
       "    }\n",
       "\n",
       "    .dataframe tbody tr th {\n",
       "        vertical-align: top;\n",
       "    }\n",
       "\n",
       "    .dataframe thead th {\n",
       "        text-align: right;\n",
       "    }\n",
       "</style>\n",
       "<table border=\"1\" class=\"dataframe\">\n",
       "  <thead>\n",
       "    <tr style=\"text-align: right;\">\n",
       "      <th></th>\n",
       "      <th>Card Number</th>\n",
       "      <th>Date</th>\n",
       "      <th>Amount</th>\n",
       "      <th>CBK</th>\n",
       "    </tr>\n",
       "  </thead>\n",
       "  <tbody>\n",
       "    <tr>\n",
       "      <th>count</th>\n",
       "      <td>1.112700e+04</td>\n",
       "      <td>1.112700e+04</td>\n",
       "      <td>11127.000000</td>\n",
       "      <td>11127.000000</td>\n",
       "    </tr>\n",
       "    <tr>\n",
       "      <th>mean</th>\n",
       "      <td>1.143050e-16</td>\n",
       "      <td>2.145677e-13</td>\n",
       "      <td>129.559922</td>\n",
       "      <td>0.051406</td>\n",
       "    </tr>\n",
       "    <tr>\n",
       "      <th>std</th>\n",
       "      <td>1.000000e+00</td>\n",
       "      <td>1.000000e+00</td>\n",
       "      <td>141.423095</td>\n",
       "      <td>0.220835</td>\n",
       "    </tr>\n",
       "    <tr>\n",
       "      <th>min</th>\n",
       "      <td>-1.725161e+00</td>\n",
       "      <td>-1.894450e+00</td>\n",
       "      <td>1.000000</td>\n",
       "      <td>0.000000</td>\n",
       "    </tr>\n",
       "    <tr>\n",
       "      <th>25%</th>\n",
       "      <td>-8.641086e-01</td>\n",
       "      <td>-8.359174e-01</td>\n",
       "      <td>55.000000</td>\n",
       "      <td>0.000000</td>\n",
       "    </tr>\n",
       "    <tr>\n",
       "      <th>50%</th>\n",
       "      <td>-4.477255e-04</td>\n",
       "      <td>-1.557283e-01</td>\n",
       "      <td>99.000000</td>\n",
       "      <td>0.000000</td>\n",
       "    </tr>\n",
       "    <tr>\n",
       "      <th>75%</th>\n",
       "      <td>8.647039e-01</td>\n",
       "      <td>8.564723e-01</td>\n",
       "      <td>154.000000</td>\n",
       "      <td>0.000000</td>\n",
       "    </tr>\n",
       "    <tr>\n",
       "      <th>max</th>\n",
       "      <td>1.725383e+00</td>\n",
       "      <td>1.712685e+00</td>\n",
       "      <td>2920.000000</td>\n",
       "      <td>1.000000</td>\n",
       "    </tr>\n",
       "  </tbody>\n",
       "</table>\n",
       "</div>"
      ],
      "text/plain": [
       "        Card Number          Date        Amount           CBK\n",
       "count  1.112700e+04  1.112700e+04  11127.000000  11127.000000\n",
       "mean   1.143050e-16  2.145677e-13    129.559922      0.051406\n",
       "std    1.000000e+00  1.000000e+00    141.423095      0.220835\n",
       "min   -1.725161e+00 -1.894450e+00      1.000000      0.000000\n",
       "25%   -8.641086e-01 -8.359174e-01     55.000000      0.000000\n",
       "50%   -4.477255e-04 -1.557283e-01     99.000000      0.000000\n",
       "75%    8.647039e-01  8.564723e-01    154.000000      0.000000\n",
       "max    1.725383e+00  1.712685e+00   2920.000000      1.000000"
      ]
     },
     "execution_count": 75,
     "metadata": {},
     "output_type": "execute_result"
    }
   ],
   "source": [
    "df.describe()"
   ]
  },
  {
   "cell_type": "code",
   "execution_count": 76,
   "id": "romantic-thread",
   "metadata": {},
   "outputs": [
    {
     "name": "stdout",
     "output_type": "stream",
     "text": [
      "0.0541923259118901\n",
      "572\n",
      "10555\n"
     ]
    }
   ],
   "source": [
    "fraud = df[df['CBK'] == 1] \n",
    "valid = df[df['CBK'] == 0] \n",
    "ratio = len(fraud)/float(len(valid)) \n",
    "print(ratio)\n",
    "print(len(fraud))\n",
    "print(len(valid))"
   ]
  },
  {
   "cell_type": "code",
   "execution_count": 77,
   "id": "democratic-denmark",
   "metadata": {},
   "outputs": [
    {
     "name": "stdout",
     "output_type": "stream",
     "text": [
      "count     572.000000\n",
      "mean      183.300455\n",
      "std       165.331552\n",
      "min        13.990000\n",
      "25%        69.000000\n",
      "50%       132.000000\n",
      "75%       209.250000\n",
      "max      1012.000000\n",
      "Name: Amount, dtype: float64\n",
      "-------------------\n",
      "count    10555.000000\n",
      "mean       126.647597\n",
      "std        139.429512\n",
      "min          1.000000\n",
      "25%         55.000000\n",
      "50%         99.000000\n",
      "75%        154.000000\n",
      "max       2920.000000\n",
      "Name: Amount, dtype: float64\n"
     ]
    }
   ],
   "source": [
    "print(fraud['Amount'].describe())\n",
    "print('-------------------')\n",
    "print(valid['Amount'].describe())"
   ]
  },
  {
   "cell_type": "code",
   "execution_count": 78,
   "id": "brilliant-think",
   "metadata": {},
   "outputs": [
    {
     "data": {
      "image/png": "[encoded data removed]",
      "text/plain": [
       "<Figure size 864x648 with 2 Axes>"
      ]
     },
     "metadata": {
      "needs_background": "light"
     },
     "output_type": "display_data"
    }
   ],
   "source": [
    "correlation = df.corr() \n",
    "fig = plt.figure(figsize = (12, 9)) \n",
    "sns.heatmap(correlation, vmax = 1, square = True, cmap=\"YlGnBu\") \n",
    "plt.show()"
   ]
  },
  {
   "cell_type": "code",
   "execution_count": 79,
   "id": "typical-basis",
   "metadata": {},
   "outputs": [
    {
     "data": {
      "image/png": "[encoded data removed]",
      "text/plain": [
       "<Figure size 864x648 with 2 Axes>"
      ]
     },
     "metadata": {
      "needs_background": "light"
     },
     "output_type": "display_data"
    }
   ],
   "source": [
    "correlation = fraud.corr() \n",
    "fig = plt.figure(figsize = (12, 9)) \n",
    "sns.heatmap(correlation, vmax = 1, square = True, cmap=\"YlGnBu\") \n",
    "plt.show()"
   ]
  },
  {
   "cell_type": "code",
   "execution_count": 80,
   "id": "independent-springfield",
   "metadata": {},
   "outputs": [],
   "source": [
    "from sklearn.model_selection import train_test_split\n",
    "X=df[['Card Number', 'Date', 'Amount']]  # Features\n",
    "y=df['CBK']\n",
    "\n",
    "X_train, X_test, y_train, y_test = train_test_split(X, y, test_size=0.35)"
   ]
  },
  {
   "cell_type": "code",
   "execution_count": 81,
   "id": "dangerous-mainland",
   "metadata": {},
   "outputs": [
    {
     "name": "stdout",
     "output_type": "stream",
     "text": [
      "Accuracy Score : 0.9789473684210527\n",
      "Confusion Matrix : [[3674   10]\n",
      " [  72  139]]\n",
      "Classification Report :               precision    recall  f1-score   support\n",
      "\n",
      "           0       0.98      1.00      0.99      3684\n",
      "           1       0.93      0.66      0.77       211\n",
      "\n",
      "    accuracy                           0.98      3895\n",
      "   macro avg       0.96      0.83      0.88      3895\n",
      "weighted avg       0.98      0.98      0.98      3895\n",
      "\n"
     ]
    }
   ],
   "source": [
    "from sklearn.ensemble import RandomForestClassifier\n",
    "\n",
    "clf=RandomForestClassifier(n_estimators=200)\n",
    "model = clf.fit(X_train,y_train)\n",
    "y_pred=clf.predict(X_test)\n",
    "\n",
    "from sklearn.metrics import classification_report, confusion_matrix, accuracy_score\n",
    "print('Accuracy Score :', accuracy_score(y_test,y_pred))\n",
    "print('Confusion Matrix :', confusion_matrix(y_test,y_pred))\n",
    "print('Classification Report :', classification_report(y_test,y_pred))"
   ]
  },
  {
   "cell_type": "code",
   "execution_count": 82,
   "id": "elementary-helping",
   "metadata": {},
   "outputs": [
    {
     "data": {
      "text/plain": [
       "['Model/model.pickle']"
      ]
     },
     "execution_count": 82,
     "metadata": {},
     "output_type": "execute_result"
    }
   ],
   "source": [
    "import joblib\n",
    "import os\n",
    "if not os.path.exists('Model'):\n",
    "    os.mkdir('Model')   \n",
    "joblib.dump(model, r'Model/model.pickle')"
   ]
  },
  {
   "cell_type": "code",
   "execution_count": 83,
   "id": "protective-messenger",
   "metadata": {},
   "outputs": [
    {
     "data": {
      "text/html": [
       "<div>\n",
       "<style scoped>\n",
       "    .dataframe tbody tr th:only-of-type {\n",
       "        vertical-align: middle;\n",
       "    }\n",
       "\n",
       "    .dataframe tbody tr th {\n",
       "        vertical-align: top;\n",
       "    }\n",
       "\n",
       "    .dataframe thead th {\n",
       "        text-align: right;\n",
       "    }\n",
       "</style>\n",
       "<table border=\"1\" class=\"dataframe\">\n",
       "  <thead>\n",
       "    <tr style=\"text-align: right;\">\n",
       "      <th></th>\n",
       "      <th>Card Number</th>\n",
       "      <th>Date</th>\n",
       "      <th>Amount</th>\n",
       "    </tr>\n",
       "  </thead>\n",
       "  <tbody>\n",
       "    <tr>\n",
       "      <th>0</th>\n",
       "      <td>554906******0358</td>\n",
       "      <td>5/1/2015 9:16</td>\n",
       "      <td>126.5</td>\n",
       "    </tr>\n",
       "    <tr>\n",
       "      <th>1</th>\n",
       "      <td>498406******6424</td>\n",
       "      <td>5/1/2015 9:21</td>\n",
       "      <td>126.5</td>\n",
       "    </tr>\n",
       "  </tbody>\n",
       "</table>\n",
       "</div>"
      ],
      "text/plain": [
       "        Card Number           Date  Amount\n",
       "0  554906******0358  5/1/2015 9:16   126.5\n",
       "1  498406******6424  5/1/2015 9:21   126.5"
      ]
     },
     "execution_count": 83,
     "metadata": {},
     "output_type": "execute_result"
    }
   ],
   "source": [
    "model = joblib.load(r'Model/model.pickle')\n",
    "test_data = pd.read_csv(\"test.csv\")\n",
    "test_data = test_data[['Card Number','Date','Amount']]\n",
    "test_data"
   ]
  },
  {
   "cell_type": "code",
   "execution_count": 85,
   "id": "ongoing-narrative",
   "metadata": {},
   "outputs": [
    {
     "ename": "ValueError",
     "evalue": "Error parsing datetime string \"5/1/2015 9:16\" at position 1",
     "output_type": "error",
     "traceback": [
      "\u001b[1;31m---------------------------------------------------------------------------\u001b[0m",
      "\u001b[1;31mValueError\u001b[0m                                Traceback (most recent call last)",
      "\u001b[1;32m<ipython-input-85-9ea0ef6435dc>\u001b[0m in \u001b[0;36m<module>\u001b[1;34m\u001b[0m\n\u001b[0;32m      5\u001b[0m \u001b[0mtest_data\u001b[0m\u001b[1;33m[\u001b[0m\u001b[1;34m'Card Number'\u001b[0m\u001b[1;33m]\u001b[0m \u001b[1;33m=\u001b[0m \u001b[0mnormalize\u001b[0m\u001b[1;33m(\u001b[0m\u001b[0mtest_data\u001b[0m\u001b[1;33m[\u001b[0m\u001b[1;34m'Card Number'\u001b[0m\u001b[1;33m]\u001b[0m\u001b[1;33m)\u001b[0m\u001b[1;33m\u001b[0m\u001b[1;33m\u001b[0m\u001b[0m\n\u001b[0;32m      6\u001b[0m \u001b[1;33m\u001b[0m\u001b[0m\n\u001b[1;32m----> 7\u001b[1;33m \u001b[0mtest_data\u001b[0m\u001b[1;33m[\u001b[0m\u001b[1;34m'Date'\u001b[0m\u001b[1;33m]\u001b[0m \u001b[1;33m=\u001b[0m \u001b[0mtest_data\u001b[0m\u001b[1;33m[\u001b[0m\u001b[1;34m'Date'\u001b[0m\u001b[1;33m]\u001b[0m\u001b[1;33m.\u001b[0m\u001b[0mvalues\u001b[0m\u001b[1;33m.\u001b[0m\u001b[0mastype\u001b[0m\u001b[1;33m(\u001b[0m\u001b[1;34m\"datetime64[s]\"\u001b[0m\u001b[1;33m)\u001b[0m\u001b[1;33m\u001b[0m\u001b[1;33m\u001b[0m\u001b[0m\n\u001b[0m\u001b[0;32m      8\u001b[0m \u001b[0mtest_data\u001b[0m\u001b[1;33m[\u001b[0m\u001b[1;34m'Date'\u001b[0m\u001b[1;33m]\u001b[0m \u001b[1;33m=\u001b[0m \u001b[0mnormalize\u001b[0m\u001b[1;33m(\u001b[0m\u001b[0mtest_data\u001b[0m\u001b[1;33m[\u001b[0m\u001b[1;34m'Date'\u001b[0m\u001b[1;33m]\u001b[0m\u001b[1;33m)\u001b[0m\u001b[1;33m\u001b[0m\u001b[1;33m\u001b[0m\u001b[0m\n\u001b[0;32m      9\u001b[0m \u001b[1;33m\u001b[0m\u001b[0m\n",
      "\u001b[1;31mValueError\u001b[0m: Error parsing datetime string \"5/1/2015 9:16\" at position 1"
     ]
    }
   ],
   "source": [
    "test_data\n",
    "\n",
    "card_numbers_to_idx = {v:k for k,v in enumerate(np.unique(test_data['Card Number'].values))}\n",
    "test_data['Card Number'].replace(card_numbers_to_idx, inplace=True)\n",
    "test_data['Card Number'] = normalize(test_data['Card Number'])\n",
    "\n",
    "test_data['Date'] = test_data['Date'].values.astype(\"datetime64[s]\")\n",
    "test_data['Date'] = normalize(test_data['Date'])\n",
    "\n",
    "#test_data['Amount'] = normalize(test_data['Amount'])\n",
    "\n",
    "test_data"
   ]
  }
 ],
 "metadata": {
  "kernelspec": {
   "display_name": "Python 3",
   "language": "python",
   "name": "python3"
  },
  "language_info": {
   "codemirror_mode": {
    "name": "ipython",
    "version": 3
   },
   "file_extension": ".py",
   "mimetype": "text/x-python",
   "name": "python",
   "nbconvert_exporter": "python",
   "pygments_lexer": "ipython3",
   "version": "3.8.3"
  },
  "toc": {
   "base_numbering": 1,
   "nav_menu": {},
   "number_sections": true,
   "sideBar": true,
   "skip_h1_title": false,
   "title_cell": "Table of Contents",
   "title_sidebar": "Contents",
   "toc_cell": false,
   "toc_position": {},
   "toc_section_display": true,
   "toc_window_display": false
  },
  "varInspector": {
   "cols": {
    "lenName": 16,
    "lenType": 16,
    "lenVar": 40
   },
   "kernels_config": {
    "python": {
     "delete_cmd_postfix": "",
     "delete_cmd_prefix": "del ",
     "library": "var_list.py",
     "varRefreshCmd": "print(var_dic_list())"
    },
    "r": {
     "delete_cmd_postfix": ") ",
     "delete_cmd_prefix": "rm(",
     "library": "var_list.r",
     "varRefreshCmd": "cat(var_dic_list()) "
    }
   },
   "types_to_exclude": [
    "module",
    "function",
    "builtin_function_or_method",
    "instance",
    "_Feature"
   ],
   "window_display": false
  }
 },
 "nbformat": 4,
 "nbformat_minor": 5
}
