{
 "cells": [
  {
   "cell_type": "code",
   "execution_count": 66,
   "id": "every-police",
   "metadata": {},
   "outputs": [],
   "source": [
    "import anvil.server\n",
    "\n",
    "anvil.server.connect(\"NW5C7J7BP2RMYOHEPOU6LR2U-KAA6QKRCG57NG4NY\")"
   ]
  },
  {
   "cell_type": "code",
   "execution_count": 67,
   "id": "declared-italian",
   "metadata": {},
   "outputs": [],
   "source": [
    "import anvil.media\n",
    "import pandas as pd\n",
    "\n",
    "def normalize(df):\n",
    "    return (df - df.mean()) / df.std()\n",
    "\n",
    "\n",
    "@anvil.server.callable\n",
    "def check_fraud(file):\n",
    "    with anvil.media.TempFile(file) as filename:\n",
    "        data = pd.read_csv(filename)\n",
    "    import joblib\n",
    "    #data = pd.read_csv(\"upload.csv\")\n",
    "    n = len(data)\n",
    "    local_data = pd.read_csv(\"test.csv\")\n",
    "    frames = [local_data, data]\n",
    "    test_data = pd.concat(frames)\n",
    "    model = joblib.load(r'Model/model.pickle')\n",
    "    test_data = test_data[['Card Number', 'Date', 'Amount']]\n",
    "\n",
    "    card_numbers_to_idx = { v:k for k,v in enumerate(np.unique(test_data['Card Number'].values))}\n",
    "    test_data['Card Number'].replace(card_numbers_to_idx, inplace=True)\n",
    "    test_data['Card Number'] = normalize(test_data['Card Number'])\n",
    "\n",
    "    test_data['Date'] = pd.to_datetime(test_data['Date']).values.astype(\"datetime64[s]\")\n",
    "    test_data['Date'] = normalize(test_data['Date'])\n",
    "\n",
    "    test_data['Amount'] = normalize(test_data['Amount'])\n",
    "    predictions = model.predict(test_data)\n",
    "    test_data['Fraud'] = predictions\n",
    "    x = str(test_data['Fraud'].tail(n))\n",
    "    return(x)"
   ]
  }
 ],
 "metadata": {
  "kernelspec": {
   "display_name": "Python 3",
   "language": "python",
   "name": "python3"
  },
  "language_info": {
   "codemirror_mode": {
    "name": "ipython",
    "version": 3
   },
   "file_extension": ".py",
   "mimetype": "text/x-python",
   "name": "python",
   "nbconvert_exporter": "python",
   "pygments_lexer": "ipython3",
   "version": "3.8.3"
  },
  "toc": {
   "base_numbering": 1,
   "nav_menu": {},
   "number_sections": true,
   "sideBar": true,
   "skip_h1_title": false,
   "title_cell": "Table of Contents",
   "title_sidebar": "Contents",
   "toc_cell": false,
   "toc_position": {},
   "toc_section_display": true,
   "toc_window_display": false
  },
  "varInspector": {
   "cols": {
    "lenName": 16,
    "lenType": 16,
    "lenVar": 40
   },
   "kernels_config": {
    "python": {
     "delete_cmd_postfix": "",
     "delete_cmd_prefix": "del ",
     "library": "var_list.py",
     "varRefreshCmd": "print(var_dic_list())"
    },
    "r": {
     "delete_cmd_postfix": ") ",
     "delete_cmd_prefix": "rm(",
     "library": "var_list.r",
     "varRefreshCmd": "cat(var_dic_list()) "
    }
   },
   "types_to_exclude": [
    "module",
    "function",
    "builtin_function_or_method",
    "instance",
    "_Feature"
   ],
   "window_display": false
  }
 },
 "nbformat": 4,
 "nbformat_minor": 5
}
