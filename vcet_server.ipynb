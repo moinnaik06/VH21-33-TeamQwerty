{
 "cells": [
  {
   "cell_type": "code",
   "execution_count": 1,
   "id": "smaller-extraction",
   "metadata": {},
   "outputs": [],
   "source": [
    "import pandas as pd\n",
    "test_data = pd.read_csv(\"test.csv\")"
   ]
  },
  {
   "cell_type": "code",
   "execution_count": 2,
   "id": "drawn-cabinet",
   "metadata": {},
   "outputs": [
    {
     "name": "stdout",
     "output_type": "stream",
     "text": [
      "Connecting to wss://anvil.works/uplink\n",
      "Anvil websocket open\n",
      "Connected to \"Default environment (dev)\" as SERVER\n"
     ]
    }
   ],
   "source": [
    "import anvil.server\n",
    "\n",
    "anvil.server.connect(\"NW5C7J7BP2RMYOHEPOU6LR2U-KAA6QKRCG57NG4NY\")"
   ]
  },
  {
   "cell_type": "code",
   "execution_count": 3,
   "id": "beginning-greene",
   "metadata": {},
   "outputs": [
    {
     "ename": "IndentationError",
     "evalue": "unexpected indent (<ipython-input-3-cccf96144ec5>, line 8)",
     "output_type": "error",
     "traceback": [
      "\u001b[1;36m  File \u001b[1;32m\"<ipython-input-3-cccf96144ec5>\"\u001b[1;36m, line \u001b[1;32m8\u001b[0m\n\u001b[1;33m    def check_fraud():\u001b[0m\n\u001b[1;37m    ^\u001b[0m\n\u001b[1;31mIndentationError\u001b[0m\u001b[1;31m:\u001b[0m unexpected indent\n"
     ]
    }
   ],
   "source": [
    "import anvil.media\n",
    "\n",
    "def normalize(df):\n",
    "    return (df - df.mean()) / df.std()\n",
    "\n",
    "\n",
    "@anvil.server.callable\n",
    "    def check_fraud():\n",
    "        #with anvil.media.TempFile(file) as filename:\n",
    "         #   data = pd.read_csv(filename)\n",
    "            data = pfd.read_csv(\"upload.csv\")\n",
    "            test_data.append(data)\n",
    "            model = joblib.load(r'Model/model.pickle')\n",
    "            test_data = test_data[['Card Number', 'Date', 'Amount']]\n",
    "\n",
    "            card_numbers_to_idx = { v:k for k,v in enumerate(np.unique(test_data['Card Number'].values))}\n",
    "            test_data['Card Number'].replace(card_numbers_to_idx, inplace=True)\n",
    "            test_data['Card Number'] = normalize(test_data['Card Number'])\n",
    "\n",
    "            test_data['Date'] = pd.to_datetime(test_data['Date']).values.astype(\"datetime64[s]\")\n",
    "            test_data['Date'] = normalize(test_data['Date'])\n",
    "\n",
    "            test_data['Amount'] = normalize(test_data['Amount'])\n",
    "            predictions = model.predict(test_data)\n",
    "            test_data['Fraud'] = predictions\n",
    "            x = str(test_data['Fraud'].tail(n=1))\n",
    "            return(x)"
   ]
  }
 ],
 "metadata": {
  "kernelspec": {
   "display_name": "Python 3",
   "language": "python",
   "name": "python3"
  },
  "language_info": {
   "codemirror_mode": {
    "name": "ipython",
    "version": 3
   },
   "file_extension": ".py",
   "mimetype": "text/x-python",
   "name": "python",
   "nbconvert_exporter": "python",
   "pygments_lexer": "ipython3",
   "version": "3.8.3"
  },
  "toc": {
   "base_numbering": 1,
   "nav_menu": {},
   "number_sections": true,
   "sideBar": true,
   "skip_h1_title": false,
   "title_cell": "Table of Contents",
   "title_sidebar": "Contents",
   "toc_cell": false,
   "toc_position": {},
   "toc_section_display": true,
   "toc_window_display": false
  },
  "varInspector": {
   "cols": {
    "lenName": 16,
    "lenType": 16,
    "lenVar": 40
   },
   "kernels_config": {
    "python": {
     "delete_cmd_postfix": "",
     "delete_cmd_prefix": "del ",
     "library": "var_list.py",
     "varRefreshCmd": "print(var_dic_list())"
    },
    "r": {
     "delete_cmd_postfix": ") ",
     "delete_cmd_prefix": "rm(",
     "library": "var_list.r",
     "varRefreshCmd": "cat(var_dic_list()) "
    }
   },
   "types_to_exclude": [
    "module",
    "function",
    "builtin_function_or_method",
    "instance",
    "_Feature"
   ],
   "window_display": false
  }
 },
 "nbformat": 4,
 "nbformat_minor": 5
}
